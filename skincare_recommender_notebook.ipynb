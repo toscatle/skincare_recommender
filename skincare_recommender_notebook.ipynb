{
 "cells": [
  {
   "cell_type": "markdown",
   "metadata": {},
   "source": [
    "# Creating a Skincare Recommender\n",
    "\n",
    "<img src=\"images/skincare_cover_photo.jpeg\">\n",
    "\n",
    "Image src: istockphoto.com"
   ]
  },
  {
   "cell_type": "markdown",
   "metadata": {},
   "source": [
    "## Overview\n",
    "\n",
    "This project explores skincare products from Sephora in order to build a recommendation system for consumers looking to find different products and develop a skincare routine suited for their needs."
   ]
  },
  {
   "cell_type": "markdown",
   "metadata": {},
   "source": [
    "## Business Understanding"
   ]
  },
  {
   "cell_type": "markdown",
   "metadata": {},
   "source": [
    "## Data Preparation/Understanding"
   ]
  },
  {
   "cell_type": "code",
   "execution_count": 1,
   "metadata": {},
   "outputs": [],
   "source": [
    "#imports\n",
    "import numpy as np\n",
    "import pandas as pd\n",
    "import random as rn\n",
    "import matplotlib.pyplot as plt\n",
    "%matplotlib inline\n",
    "import seaborn as sns\n",
    "\n",
    "from os import path\n",
    "from PIL import Image\n",
    "from wordcloud import WordCloud, ImageColorGenerator\n",
    "\n",
    "from surprise import Dataset, Reader\n",
    "from surprise.model_selection import train_test_split, cross_validate\n",
    "from surprise.prediction_algorithms import SVD\n",
    "from surprise.prediction_algorithms import knns\n",
    "from surprise.model_selection import GridSearchCV\n",
    "from surprise.similarities import cosine, msd, pearson\n",
    "from surprise import accuracy"
   ]
  },
  {
   "cell_type": "code",
   "execution_count": 2,
   "metadata": {},
   "outputs": [],
   "source": [
    "df = pd.read_csv('skindataall.csv', index_col=[0])"
   ]
  },
  {
   "cell_type": "code",
   "execution_count": 3,
   "metadata": {
    "scrolled": true
   },
   "outputs": [
    {
     "data": {
      "text/html": [
       "<div>\n",
       "<style scoped>\n",
       "    .dataframe tbody tr th:only-of-type {\n",
       "        vertical-align: middle;\n",
       "    }\n",
       "\n",
       "    .dataframe tbody tr th {\n",
       "        vertical-align: top;\n",
       "    }\n",
       "\n",
       "    .dataframe thead th {\n",
       "        text-align: right;\n",
       "    }\n",
       "</style>\n",
       "<table border=\"1\" class=\"dataframe\">\n",
       "  <thead>\n",
       "    <tr style=\"text-align: right;\">\n",
       "      <th></th>\n",
       "      <th>Username</th>\n",
       "      <th>Skin_Tone</th>\n",
       "      <th>Skin_Type</th>\n",
       "      <th>Eye_Color</th>\n",
       "      <th>Hair_Color</th>\n",
       "      <th>Rating_Stars</th>\n",
       "      <th>Review</th>\n",
       "      <th>Product</th>\n",
       "      <th>Brand</th>\n",
       "      <th>Price</th>\n",
       "      <th>...</th>\n",
       "      <th>Oily</th>\n",
       "      <th>Sensitive</th>\n",
       "      <th>Category</th>\n",
       "      <th>Product_Url</th>\n",
       "      <th>User_id</th>\n",
       "      <th>Product_id</th>\n",
       "      <th>Ingredients_Cleaned</th>\n",
       "      <th>Review_Cleaned</th>\n",
       "      <th>Good_Stuff</th>\n",
       "      <th>Ing_Tfidf</th>\n",
       "    </tr>\n",
       "  </thead>\n",
       "  <tbody>\n",
       "    <tr>\n",
       "      <th>0</th>\n",
       "      <td>allyp3</td>\n",
       "      <td>Medium</td>\n",
       "      <td>Combination</td>\n",
       "      <td>Brown</td>\n",
       "      <td>Brunette</td>\n",
       "      <td>5</td>\n",
       "      <td>This is hands down the best cleanser I’ve ever...</td>\n",
       "      <td>Superfood Antioxidant Cleanser</td>\n",
       "      <td>YOUTH TO THE PEOPLE</td>\n",
       "      <td>36</td>\n",
       "      <td>...</td>\n",
       "      <td>0</td>\n",
       "      <td>0</td>\n",
       "      <td>Cleanser</td>\n",
       "      <td>https://www.sephora.com/product/kale-spinach-g...</td>\n",
       "      <td>3420</td>\n",
       "      <td>157</td>\n",
       "      <td>['sodium', 'cocoyl', 'glutamate', 'cocamidopro...</td>\n",
       "      <td>['hand', 'best', 'cleanser', 'ever', 'used', '...</td>\n",
       "      <td>1</td>\n",
       "      <td>sodium, cocoyl, glutamate, cocamidopropyl, bet...</td>\n",
       "    </tr>\n",
       "    <tr>\n",
       "      <th>1</th>\n",
       "      <td>PatTea</td>\n",
       "      <td>Medium</td>\n",
       "      <td>Combination</td>\n",
       "      <td>Brown</td>\n",
       "      <td>Red</td>\n",
       "      <td>1</td>\n",
       "      <td>Unfortunately this doesn’t work for everyone. ...</td>\n",
       "      <td>Superfood Antioxidant Cleanser</td>\n",
       "      <td>YOUTH TO THE PEOPLE</td>\n",
       "      <td>36</td>\n",
       "      <td>...</td>\n",
       "      <td>0</td>\n",
       "      <td>0</td>\n",
       "      <td>Cleanser</td>\n",
       "      <td>https://www.sephora.com/product/kale-spinach-g...</td>\n",
       "      <td>2483</td>\n",
       "      <td>157</td>\n",
       "      <td>['sodium', 'cocoyl', 'glutamate', 'cocamidopro...</td>\n",
       "      <td>['unfortunately', 'work', 'everyone', 'used', ...</td>\n",
       "      <td>0</td>\n",
       "      <td>sodium, cocoyl, glutamate, cocamidopropyl, bet...</td>\n",
       "    </tr>\n",
       "    <tr>\n",
       "      <th>2</th>\n",
       "      <td>Sabi1991</td>\n",
       "      <td>No data</td>\n",
       "      <td>No data</td>\n",
       "      <td>No data</td>\n",
       "      <td>No data</td>\n",
       "      <td>5</td>\n",
       "      <td>My favorite cleanser!! i love the packaging on...</td>\n",
       "      <td>Superfood Antioxidant Cleanser</td>\n",
       "      <td>YOUTH TO THE PEOPLE</td>\n",
       "      <td>36</td>\n",
       "      <td>...</td>\n",
       "      <td>0</td>\n",
       "      <td>0</td>\n",
       "      <td>Cleanser</td>\n",
       "      <td>https://www.sephora.com/product/kale-spinach-g...</td>\n",
       "      <td>2715</td>\n",
       "      <td>157</td>\n",
       "      <td>['sodium', 'cocoyl', 'glutamate', 'cocamidopro...</td>\n",
       "      <td>['favorite', 'cleanser', 'love', 'packaging', ...</td>\n",
       "      <td>1</td>\n",
       "      <td>sodium, cocoyl, glutamate, cocamidopropyl, bet...</td>\n",
       "    </tr>\n",
       "    <tr>\n",
       "      <th>3</th>\n",
       "      <td>happyface2</td>\n",
       "      <td>Fair</td>\n",
       "      <td>Dry</td>\n",
       "      <td>Blue</td>\n",
       "      <td>Blonde</td>\n",
       "      <td>5</td>\n",
       "      <td>I love all things Youth To The People! This cl...</td>\n",
       "      <td>Superfood Antioxidant Cleanser</td>\n",
       "      <td>YOUTH TO THE PEOPLE</td>\n",
       "      <td>36</td>\n",
       "      <td>...</td>\n",
       "      <td>0</td>\n",
       "      <td>0</td>\n",
       "      <td>Cleanser</td>\n",
       "      <td>https://www.sephora.com/product/kale-spinach-g...</td>\n",
       "      <td>4497</td>\n",
       "      <td>157</td>\n",
       "      <td>['sodium', 'cocoyl', 'glutamate', 'cocamidopro...</td>\n",
       "      <td>['love', 'thing', 'youth', 'people', 'cleanser...</td>\n",
       "      <td>1</td>\n",
       "      <td>sodium, cocoyl, glutamate, cocamidopropyl, bet...</td>\n",
       "    </tr>\n",
       "    <tr>\n",
       "      <th>4</th>\n",
       "      <td>kimkix34</td>\n",
       "      <td>Fair</td>\n",
       "      <td>Normal</td>\n",
       "      <td>Green</td>\n",
       "      <td>Blonde</td>\n",
       "      <td>5</td>\n",
       "      <td>I had a trial size of this and was obsessed. M...</td>\n",
       "      <td>Superfood Antioxidant Cleanser</td>\n",
       "      <td>YOUTH TO THE PEOPLE</td>\n",
       "      <td>36</td>\n",
       "      <td>...</td>\n",
       "      <td>0</td>\n",
       "      <td>0</td>\n",
       "      <td>Cleanser</td>\n",
       "      <td>https://www.sephora.com/product/kale-spinach-g...</td>\n",
       "      <td>5017</td>\n",
       "      <td>157</td>\n",
       "      <td>['sodium', 'cocoyl', 'glutamate', 'cocamidopro...</td>\n",
       "      <td>['trial', 'size', 'wa', 'obsessed', 'skin', 'f...</td>\n",
       "      <td>1</td>\n",
       "      <td>sodium, cocoyl, glutamate, cocamidopropyl, bet...</td>\n",
       "    </tr>\n",
       "  </tbody>\n",
       "</table>\n",
       "<p>5 rows × 25 columns</p>\n",
       "</div>"
      ],
      "text/plain": [
       "     Username Skin_Tone    Skin_Type Eye_Color Hair_Color  Rating_Stars  \\\n",
       "0      allyp3    Medium  Combination     Brown   Brunette             5   \n",
       "1      PatTea    Medium  Combination     Brown        Red             1   \n",
       "2    Sabi1991   No data      No data   No data    No data             5   \n",
       "3  happyface2      Fair          Dry      Blue     Blonde             5   \n",
       "4    kimkix34      Fair       Normal     Green     Blonde             5   \n",
       "\n",
       "                                              Review  \\\n",
       "0  This is hands down the best cleanser I’ve ever...   \n",
       "1  Unfortunately this doesn’t work for everyone. ...   \n",
       "2  My favorite cleanser!! i love the packaging on...   \n",
       "3  I love all things Youth To The People! This cl...   \n",
       "4  I had a trial size of this and was obsessed. M...   \n",
       "\n",
       "                          Product                Brand  Price  ...  Oily  \\\n",
       "0  Superfood Antioxidant Cleanser  YOUTH TO THE PEOPLE     36  ...     0   \n",
       "1  Superfood Antioxidant Cleanser  YOUTH TO THE PEOPLE     36  ...     0   \n",
       "2  Superfood Antioxidant Cleanser  YOUTH TO THE PEOPLE     36  ...     0   \n",
       "3  Superfood Antioxidant Cleanser  YOUTH TO THE PEOPLE     36  ...     0   \n",
       "4  Superfood Antioxidant Cleanser  YOUTH TO THE PEOPLE     36  ...     0   \n",
       "\n",
       "  Sensitive  Category                                        Product_Url  \\\n",
       "0         0  Cleanser  https://www.sephora.com/product/kale-spinach-g...   \n",
       "1         0  Cleanser  https://www.sephora.com/product/kale-spinach-g...   \n",
       "2         0  Cleanser  https://www.sephora.com/product/kale-spinach-g...   \n",
       "3         0  Cleanser  https://www.sephora.com/product/kale-spinach-g...   \n",
       "4         0  Cleanser  https://www.sephora.com/product/kale-spinach-g...   \n",
       "\n",
       "   User_id  Product_id                                Ingredients_Cleaned  \\\n",
       "0     3420         157  ['sodium', 'cocoyl', 'glutamate', 'cocamidopro...   \n",
       "1     2483         157  ['sodium', 'cocoyl', 'glutamate', 'cocamidopro...   \n",
       "2     2715         157  ['sodium', 'cocoyl', 'glutamate', 'cocamidopro...   \n",
       "3     4497         157  ['sodium', 'cocoyl', 'glutamate', 'cocamidopro...   \n",
       "4     5017         157  ['sodium', 'cocoyl', 'glutamate', 'cocamidopro...   \n",
       "\n",
       "                                      Review_Cleaned Good_Stuff  \\\n",
       "0  ['hand', 'best', 'cleanser', 'ever', 'used', '...          1   \n",
       "1  ['unfortunately', 'work', 'everyone', 'used', ...          0   \n",
       "2  ['favorite', 'cleanser', 'love', 'packaging', ...          1   \n",
       "3  ['love', 'thing', 'youth', 'people', 'cleanser...          1   \n",
       "4  ['trial', 'size', 'wa', 'obsessed', 'skin', 'f...          1   \n",
       "\n",
       "                                           Ing_Tfidf  \n",
       "0  sodium, cocoyl, glutamate, cocamidopropyl, bet...  \n",
       "1  sodium, cocoyl, glutamate, cocamidopropyl, bet...  \n",
       "2  sodium, cocoyl, glutamate, cocamidopropyl, bet...  \n",
       "3  sodium, cocoyl, glutamate, cocamidopropyl, bet...  \n",
       "4  sodium, cocoyl, glutamate, cocamidopropyl, bet...  \n",
       "\n",
       "[5 rows x 25 columns]"
      ]
     },
     "execution_count": 3,
     "metadata": {},
     "output_type": "execute_result"
    }
   ],
   "source": [
    "df.head()"
   ]
  },
  {
   "cell_type": "code",
   "execution_count": 4,
   "metadata": {
    "scrolled": true
   },
   "outputs": [
    {
     "name": "stdout",
     "output_type": "stream",
     "text": [
      "<class 'pandas.core.frame.DataFrame'>\n",
      "Int64Index: 8649 entries, 0 to 8702\n",
      "Data columns (total 25 columns):\n",
      " #   Column               Non-Null Count  Dtype  \n",
      "---  ------               --------------  -----  \n",
      " 0   Username             8649 non-null   object \n",
      " 1   Skin_Tone            8649 non-null   object \n",
      " 2   Skin_Type            8649 non-null   object \n",
      " 3   Eye_Color            8649 non-null   object \n",
      " 4   Hair_Color           8649 non-null   object \n",
      " 5   Rating_Stars         8649 non-null   int64  \n",
      " 6   Review               8649 non-null   object \n",
      " 7   Product              8649 non-null   object \n",
      " 8   Brand                8649 non-null   object \n",
      " 9   Price                8649 non-null   int64  \n",
      " 10  Rating               8649 non-null   float64\n",
      " 11  Ingredients          8649 non-null   object \n",
      " 12  Combination          8649 non-null   int64  \n",
      " 13  Dry                  8649 non-null   int64  \n",
      " 14  Normal               8649 non-null   int64  \n",
      " 15  Oily                 8649 non-null   int64  \n",
      " 16  Sensitive            8649 non-null   int64  \n",
      " 17  Category             8649 non-null   object \n",
      " 18  Product_Url          8649 non-null   object \n",
      " 19  User_id              8649 non-null   int64  \n",
      " 20  Product_id           8649 non-null   int64  \n",
      " 21  Ingredients_Cleaned  8649 non-null   object \n",
      " 22  Review_Cleaned       8649 non-null   object \n",
      " 23  Good_Stuff           8649 non-null   int64  \n",
      " 24  Ing_Tfidf            8649 non-null   object \n",
      "dtypes: float64(1), int64(10), object(14)\n",
      "memory usage: 1.7+ MB\n"
     ]
    }
   ],
   "source": [
    "df.info()"
   ]
  },
  {
   "cell_type": "code",
   "execution_count": 5,
   "metadata": {},
   "outputs": [
    {
     "data": {
      "text/plain": [
       "array(['Cleanser', 'Moisturizer', 'Face Mask', 'Treatment'], dtype=object)"
      ]
     },
     "execution_count": 5,
     "metadata": {},
     "output_type": "execute_result"
    }
   ],
   "source": [
    "#checking that all categories of products are what I'm interested in\n",
    "df['Category'].unique()"
   ]
  },
  {
   "cell_type": "markdown",
   "metadata": {},
   "source": [
    "I'm dropping Username, Eye_Color and Hair_Color columns because I don't believe they are specifically relevant to features that will be used to recommend skin care products."
   ]
  },
  {
   "cell_type": "code",
   "execution_count": 3,
   "metadata": {},
   "outputs": [],
   "source": [
    "df = df.drop(columns=['Username', 'Eye_Color', 'Hair_Color'])"
   ]
  },
  {
   "cell_type": "markdown",
   "metadata": {},
   "source": [
    "The dataset looks fairly clean already, all the labels are relevant to face skincare products with no missing values. I'm going to explore further if there are any repeats and what the distribution of the features are."
   ]
  },
  {
   "cell_type": "code",
   "execution_count": 7,
   "metadata": {},
   "outputs": [
    {
     "data": {
      "text/html": [
       "<div>\n",
       "<style scoped>\n",
       "    .dataframe tbody tr th:only-of-type {\n",
       "        vertical-align: middle;\n",
       "    }\n",
       "\n",
       "    .dataframe tbody tr th {\n",
       "        vertical-align: top;\n",
       "    }\n",
       "\n",
       "    .dataframe thead th {\n",
       "        text-align: right;\n",
       "    }\n",
       "</style>\n",
       "<table border=\"1\" class=\"dataframe\">\n",
       "  <thead>\n",
       "    <tr style=\"text-align: right;\">\n",
       "      <th></th>\n",
       "      <th>Price</th>\n",
       "      <th>Rating_Stars</th>\n",
       "      <th>Rating</th>\n",
       "    </tr>\n",
       "  </thead>\n",
       "  <tbody>\n",
       "    <tr>\n",
       "      <th>count</th>\n",
       "      <td>8649.000000</td>\n",
       "      <td>8649.000000</td>\n",
       "      <td>8649.000000</td>\n",
       "    </tr>\n",
       "    <tr>\n",
       "      <th>mean</th>\n",
       "      <td>47.289860</td>\n",
       "      <td>4.101861</td>\n",
       "      <td>4.290982</td>\n",
       "    </tr>\n",
       "    <tr>\n",
       "      <th>std</th>\n",
       "      <td>35.774619</td>\n",
       "      <td>1.362036</td>\n",
       "      <td>0.470872</td>\n",
       "    </tr>\n",
       "    <tr>\n",
       "      <th>min</th>\n",
       "      <td>4.000000</td>\n",
       "      <td>1.000000</td>\n",
       "      <td>0.000000</td>\n",
       "    </tr>\n",
       "    <tr>\n",
       "      <th>25%</th>\n",
       "      <td>28.000000</td>\n",
       "      <td>3.000000</td>\n",
       "      <td>4.200000</td>\n",
       "    </tr>\n",
       "    <tr>\n",
       "      <th>50%</th>\n",
       "      <td>38.000000</td>\n",
       "      <td>5.000000</td>\n",
       "      <td>4.400000</td>\n",
       "    </tr>\n",
       "    <tr>\n",
       "      <th>75%</th>\n",
       "      <td>58.000000</td>\n",
       "      <td>5.000000</td>\n",
       "      <td>4.500000</td>\n",
       "    </tr>\n",
       "    <tr>\n",
       "      <th>max</th>\n",
       "      <td>370.000000</td>\n",
       "      <td>5.000000</td>\n",
       "      <td>5.000000</td>\n",
       "    </tr>\n",
       "  </tbody>\n",
       "</table>\n",
       "</div>"
      ],
      "text/plain": [
       "             Price  Rating_Stars       Rating\n",
       "count  8649.000000   8649.000000  8649.000000\n",
       "mean     47.289860      4.101861     4.290982\n",
       "std      35.774619      1.362036     0.470872\n",
       "min       4.000000      1.000000     0.000000\n",
       "25%      28.000000      3.000000     4.200000\n",
       "50%      38.000000      5.000000     4.400000\n",
       "75%      58.000000      5.000000     4.500000\n",
       "max     370.000000      5.000000     5.000000"
      ]
     },
     "execution_count": 7,
     "metadata": {},
     "output_type": "execute_result"
    }
   ],
   "source": [
    "#seeing distribution of continuous features\n",
    "df[['Price', 'Rating_Stars', 'Rating']].describe()"
   ]
  },
  {
   "cell_type": "code",
   "execution_count": 8,
   "metadata": {
    "scrolled": true
   },
   "outputs": [
    {
     "data": {
      "image/png": "[encoded data removed]",
      "text/plain": [
       "<Figure size 1080x720 with 4 Axes>"
      ]
     },
     "metadata": {
      "needs_background": "light"
     },
     "output_type": "display_data"
    }
   ],
   "source": [
    "#histograms of continuous features\n",
    "df[['Price', 'Rating_Stars', 'Rating']].hist(figsize=[15,10]);"
   ]
  },
  {
   "cell_type": "markdown",
   "metadata": {},
   "source": [
    "It appears that the majority of the products are less than $100, which could be beneficial for consumers looking for more affordable options. For Rating Stars, which is the rating a consumer gives a product on a scale of 1-5 stars shows people usually leaves reviews and ratings when they are satisfied with the product. This also relates to average ratings of products predominately greater than 4."
   ]
  },
  {
   "cell_type": "code",
   "execution_count": 9,
   "metadata": {},
   "outputs": [
    {
     "data": {
      "text/plain": [
       "count         8649\n",
       "unique          60\n",
       "top       CLINIQUE\n",
       "freq           685\n",
       "Name: Brand, dtype: object"
      ]
     },
     "execution_count": 9,
     "metadata": {},
     "output_type": "execute_result"
    }
   ],
   "source": [
    "#how many different brands are there\n",
    "df['Brand'].describe()"
   ]
  },
  {
   "cell_type": "code",
   "execution_count": 10,
   "metadata": {},
   "outputs": [
    {
     "data": {
      "image/png": "[encoded data removed]",
      "text/plain": [
       "<Figure size 720x576 with 1 Axes>"
      ]
     },
     "metadata": {
      "needs_background": "light"
     },
     "output_type": "display_data"
    }
   ],
   "source": [
    "#distribution of different types of products\n",
    "plt.figure(figsize=(10, 8))\n",
    "sns.set_style('darkgrid')\n",
    "\n",
    "plot = sns.countplot(data=df,\n",
    "                     x='Category',\n",
    "                     palette='Blues_d',\n",
    "                     order=df.Category.value_counts().index)\n",
    "\n",
    "plt.setp(plot.get_xticklabels(), rotation=45)\n",
    "plt.xlabel('Categories', size=12)\n",
    "plt.ylabel('Count', size=12)\n",
    "plt.title('Number of Products Per Category', size=15)\n",
    "plt.show()"
   ]
  },
  {
   "cell_type": "code",
   "execution_count": 11,
   "metadata": {},
   "outputs": [
    {
     "data": {
      "image/png": "[encoded data removed]",
      "text/plain": [
       "<Figure size 720x576 with 1 Axes>"
      ]
     },
     "metadata": {},
     "output_type": "display_data"
    }
   ],
   "source": [
    "#distribution of skin types\n",
    "plt.figure(figsize=(10, 8))\n",
    "sns.set_style('darkgrid')\n",
    "\n",
    "plot = sns.countplot(data=df,\n",
    "                     x='Skin_Type',\n",
    "                     palette='YlOrBr',\n",
    "                     order=df.Skin_Type.value_counts().index)\n",
    "\n",
    "plt.setp(plot.get_xticklabels(), rotation=45)\n",
    "plt.xlabel('Skin Types', size=12)\n",
    "plt.ylabel('Count', size=12)\n",
    "plt.title('Distribution of Skin Types', size=15)\n",
    "plt.show()"
   ]
  },
  {
   "cell_type": "code",
   "execution_count": 12,
   "metadata": {},
   "outputs": [
    {
     "data": {
      "image/png": "[encoded data removed]",
      "text/plain": [
       "<Figure size 720x576 with 1 Axes>"
      ]
     },
     "metadata": {},
     "output_type": "display_data"
    }
   ],
   "source": [
    "#distribution of skin tone\n",
    "plt.figure(figsize=(10, 8))\n",
    "sns.set_style('darkgrid')\n",
    "\n",
    "plot = sns.countplot(data=df,\n",
    "                     x='Skin_Tone',\n",
    "                     palette='Blues',\n",
    "                     order=df.Skin_Tone.value_counts().index)\n",
    "\n",
    "plt.setp(plot.get_xticklabels(), rotation=45)\n",
    "plt.xlabel('Skin Types', size=12)\n",
    "plt.ylabel('Count', size=12)\n",
    "plt.title('Distribution of Skin Types', size=15)\n",
    "plt.show()"
   ]
  },
  {
   "cell_type": "markdown",
   "metadata": {},
   "source": [
    "## Modeling\n",
    "\n",
    "As mentioned, a recommendation system will help consumers find products. There are two main types: unpersonalized and personalized. Currently, on the Sephora landing page, there are carousals of products that \"Just Dropped\", \"Selling Fast\", \"Chosen For You\" (which probably is linked to the specific consumer's account such as purchase and browsing history). For a new consumer, a carousal for most popular/rated product could be beneficial! In addition, personalized recommendations based on their skin type, product needs and ingredients will be the most applicable."
   ]
  },
  {
   "cell_type": "markdown",
   "metadata": {},
   "source": [
    "### Collaborative Filtering"
   ]
  },
  {
   "cell_type": "markdown",
   "metadata": {},
   "source": [
    "#### Memory-Based Approach\n",
    "\n",
    "KNNBasic vs. KNNMeans vs. KNNBaseline"
   ]
  },
  {
   "cell_type": "code",
   "execution_count": 4,
   "metadata": {},
   "outputs": [
    {
     "data": {
      "text/plain": [
       "surprise.dataset.DatasetAutoFolds"
      ]
     },
     "execution_count": 4,
     "metadata": {},
     "output_type": "execute_result"
    }
   ],
   "source": [
    "reader = Reader(rating_scale=(1, 5))\n",
    "data = Dataset.load_from_df(df[['User_id', 'Product_id', 'Rating_Stars']], reader)\n",
    "type(data)"
   ]
  },
  {
   "cell_type": "code",
   "execution_count": 5,
   "metadata": {},
   "outputs": [],
   "source": [
    "train, test = train_test_split(data, test_size=0.2)"
   ]
  },
  {
   "cell_type": "markdown",
   "metadata": {},
   "source": [
    "First, I will explore Memory-Based methods of building recommendations. This essentially uses user rating historical data to compute similarity between users or items. This is helpful in recommending the most similar items that haven't been seen/used by the consumer. "
   ]
  },
  {
   "cell_type": "code",
   "execution_count": 6,
   "metadata": {},
   "outputs": [
    {
     "name": "stdout",
     "output_type": "stream",
     "text": [
      "Number of users:  5712 \n",
      "\n",
      "Number of items:  315 \n",
      "\n"
     ]
    }
   ],
   "source": [
    "print('Number of users: ', train.n_users, '\\n')\n",
    "print('Number of items: ', train.n_items, '\\n')"
   ]
  },
  {
   "cell_type": "code",
   "execution_count": 7,
   "metadata": {
    "scrolled": false
   },
   "outputs": [
    {
     "name": "stdout",
     "output_type": "stream",
     "text": [
      "Number of users:  6851 \n",
      "\n",
      "Number of items:  315\n"
     ]
    }
   ],
   "source": [
    "dataset = data.build_full_trainset()\n",
    "print('Number of users: ', dataset.n_users, '\\n')\n",
    "print('Number of items: ', dataset.n_items)"
   ]
  },
  {
   "cell_type": "markdown",
   "metadata": {},
   "source": [
    "Since there are more users than items in the train set, it makes more sense to calculate item-item similarity rather than between users."
   ]
  },
  {
   "cell_type": "code",
   "execution_count": 8,
   "metadata": {},
   "outputs": [
    {
     "name": "stdout",
     "output_type": "stream",
     "text": [
      "Computing the cosine similarity matrix...\n",
      "Done computing similarity matrix.\n"
     ]
    },
    {
     "data": {
      "text/plain": [
       "<surprise.prediction_algorithms.knns.KNNBasic at 0x7fecbbebbe50>"
      ]
     },
     "execution_count": 8,
     "metadata": {},
     "output_type": "execute_result"
    }
   ],
   "source": [
    "#knn basic w/ cosine\n",
    "sim_cos = {'name': 'cosine', 'user_based': False}\n",
    "\n",
    "basic = knns.KNNBasic(sim_options=sim_cos)\n",
    "basic.fit(train)"
   ]
  },
  {
   "cell_type": "code",
   "execution_count": 9,
   "metadata": {},
   "outputs": [
    {
     "name": "stdout",
     "output_type": "stream",
     "text": [
      "RMSE: 1.2403\n",
      "1.24025344631553\n"
     ]
    }
   ],
   "source": [
    "predictions = basic.test(test)\n",
    "print(accuracy.rmse(predictions))"
   ]
  },
  {
   "cell_type": "markdown",
   "metadata": {},
   "source": [
    "This model had an RMSE of about 1.25, which means it was roughly 1 point off for each guess in ratings. Although, this is not bad, the scale of ratings for products is only on a scale of 1-5, so a different of about a point or more can be a big difference from someone enjoying the product or not. Potentially utilizing a different similarity metric could improve the model."
   ]
  },
  {
   "cell_type": "code",
   "execution_count": 10,
   "metadata": {},
   "outputs": [
    {
     "name": "stdout",
     "output_type": "stream",
     "text": [
      "Computing the pearson similarity matrix...\n",
      "Done computing similarity matrix.\n",
      "RMSE: 1.2195\n",
      "1.2195205570375094\n"
     ]
    }
   ],
   "source": [
    "#knn basic w/ pearson\n",
    "sim_pearson = {'name': 'pearson', 'user_based': False}\n",
    "basic_2 = knns.KNNBasic(sim_options=sim_pearson)\n",
    "basic_2.fit(train)\n",
    "predictions = basic_2.test(test)\n",
    "print(accuracy.rmse(predictions))"
   ]
  },
  {
   "cell_type": "markdown",
   "metadata": {},
   "source": [
    "There was a slight better performance with pearson correlation, so I will use this similarity metric for future models. Next, I will compare the performances of KNN with Means and KNN Baseline."
   ]
  },
  {
   "cell_type": "code",
   "execution_count": 11,
   "metadata": {},
   "outputs": [
    {
     "name": "stdout",
     "output_type": "stream",
     "text": [
      "Computing the pearson similarity matrix...\n",
      "Done computing similarity matrix.\n",
      "RMSE: 1.2205\n",
      "1.2205305916847569\n"
     ]
    }
   ],
   "source": [
    "#knn with means\n",
    "sim_pearson = {'name': 'pearson', 'user_based': False}\n",
    "knn_means = knns.KNNWithMeans(sim_options=sim_pearson)\n",
    "knn_means.fit(train)\n",
    "predictions = knn_means.test(test)\n",
    "print(accuracy.rmse(predictions))"
   ]
  },
  {
   "cell_type": "code",
   "execution_count": 12,
   "metadata": {},
   "outputs": [
    {
     "name": "stdout",
     "output_type": "stream",
     "text": [
      "Estimating biases using als...\n",
      "Computing the pearson similarity matrix...\n",
      "Done computing similarity matrix.\n",
      "RMSE: 1.2036\n",
      "1.2036023847466428\n"
     ]
    }
   ],
   "source": [
    "#knnbaseline\n",
    "sim_pearson = {'name': 'pearson', 'user_based': False}\n",
    "knn_baseline = knns.KNNBaseline(sim_options=sim_pearson)\n",
    "knn_baseline.fit(train)\n",
    "predictions = knn_baseline.test(test)\n",
    "print(accuracy.rmse(predictions))"
   ]
  },
  {
   "cell_type": "code",
   "execution_count": 13,
   "metadata": {},
   "outputs": [
    {
     "name": "stdout",
     "output_type": "stream",
     "text": [
      "Estimating biases using als...\n",
      "Computing the pearson similarity matrix...\n",
      "Done computing similarity matrix.\n",
      "Estimating biases using als...\n",
      "Computing the pearson similarity matrix...\n",
      "Done computing similarity matrix.\n",
      "Estimating biases using als...\n",
      "Computing the pearson similarity matrix...\n",
      "Done computing similarity matrix.\n",
      "Estimating biases using als...\n",
      "Computing the pearson similarity matrix...\n",
      "Done computing similarity matrix.\n",
      "Estimating biases using als...\n",
      "Computing the pearson similarity matrix...\n",
      "Done computing similarity matrix.\n"
     ]
    }
   ],
   "source": [
    "#cross-validating with KNNBaseline\n",
    "cv_knn_baseline = cross_validate(knn_baseline, data)"
   ]
  },
  {
   "cell_type": "code",
   "execution_count": 14,
   "metadata": {},
   "outputs": [
    {
     "name": "stdout",
     "output_type": "stream",
     "text": [
      "('test_rmse', array([1.18797175, 1.23600218, 1.17073827, 1.178374  , 1.19735195]))\n",
      "('test_mae', array([0.85618702, 0.89029613, 0.86103019, 0.84590487, 0.86774707]))\n",
      "('fit_time', (0.02579784393310547, 0.019034147262573242, 0.016774892807006836, 0.016193866729736328, 0.016560077667236328))\n",
      "('test_time', (0.013290166854858398, 0.00935220718383789, 0.00865316390991211, 0.008450746536254883, 0.00997304916381836))\n"
     ]
    },
    {
     "data": {
      "text/plain": [
       "1.1940876341088071"
      ]
     },
     "execution_count": 14,
     "metadata": {},
     "output_type": "execute_result"
    }
   ],
   "source": [
    "#print average score for test set\n",
    "for i in cv_knn_baseline.items():\n",
    "    print(i)\n",
    "    \n",
    "np.mean(cv_knn_baseline['test_rmse'])"
   ]
  },
  {
   "cell_type": "markdown",
   "metadata": {},
   "source": [
    "The KNNBaseline method ended up with the lowest RMSE when utilizing pearson correlation. The downside to using memory-based methods is the whole input data is needed and isn't as scale-able when compared to model-based methods."
   ]
  },
  {
   "cell_type": "markdown",
   "metadata": {},
   "source": [
    "#### Model-Based Approach\n",
    "\n",
    "SVD vs. ALS"
   ]
  },
  {
   "cell_type": "code",
   "execution_count": 15,
   "metadata": {},
   "outputs": [
    {
     "name": "stdout",
     "output_type": "stream",
     "text": [
      "RMSE: 1.2747\n",
      "1.2747179599178151\n"
     ]
    }
   ],
   "source": [
    "svd = SVD()\n",
    "svd.fit(train)\n",
    "\n",
    "predictions = svd.test(test)\n",
    "print(accuracy.rmse(predictions))"
   ]
  },
  {
   "cell_type": "code",
   "execution_count": 16,
   "metadata": {},
   "outputs": [
    {
     "name": "stderr",
     "output_type": "stream",
     "text": [
      "[Parallel(n_jobs=-1)]: Using backend LokyBackend with 16 concurrent workers.\n",
      "[Parallel(n_jobs=-1)]: Done  40 tasks      | elapsed:    1.0s\n",
      "[Parallel(n_jobs=-1)]: Done 130 tasks      | elapsed:    2.3s\n",
      "[Parallel(n_jobs=-1)]: Done 256 tasks      | elapsed:    8.4s\n",
      "[Parallel(n_jobs=-1)]: Done 418 tasks      | elapsed:   18.7s\n",
      "[Parallel(n_jobs=-1)]: Done 616 tasks      | elapsed:   33.9s\n",
      "[Parallel(n_jobs=-1)]: Done 850 tasks      | elapsed:  1.3min\n",
      "[Parallel(n_jobs=-1)]: Done 1125 out of 1125 | elapsed:  4.2min finished\n"
     ]
    }
   ],
   "source": [
    "#finding best params for SVD with grid search\n",
    "params = {\n",
    "    'n_factors': [10, 50, 100, 200, 500], #number of factors\n",
    "    'n_epochs': [5, 10, 20, 50, 100], #number of iteration of SGD procedures\n",
    "    'lr_all': [0.005, 0.01, 0.1], #learning rate for all params\n",
    "    'reg_all': [0.02, 0.4, 0.6] #regularization term for all params\n",
    "}\n",
    "\n",
    "gs_svd = GridSearchCV(SVD, param_grid=params, n_jobs=-1, joblib_verbose=5)\n",
    "gs_svd.fit(data)"
   ]
  },
  {
   "cell_type": "code",
   "execution_count": 17,
   "metadata": {
    "scrolled": true
   },
   "outputs": [
    {
     "name": "stdout",
     "output_type": "stream",
     "text": [
      "1.1864773848696653\n",
      "{'n_factors': 500, 'n_epochs': 100, 'lr_all': 0.1, 'reg_all': 0.02}\n"
     ]
    }
   ],
   "source": [
    "print(gs_svd.best_score['rmse'])\n",
    "print(gs_svd.best_params['rmse'])"
   ]
  },
  {
   "cell_type": "markdown",
   "metadata": {},
   "source": [
    "Prior to the gridsearch, the SVD model had an RMSE of about 1.26. After adjusting the parameters, the performance improved slightly with an RMSE 1.19. "
   ]
  },
  {
   "cell_type": "code",
   "execution_count": 28,
   "metadata": {},
   "outputs": [],
   "source": [
    "from pyspark.sql import SparkSession\n",
    "\n",
    "spark = SparkSession\\\n",
    "        .builder\\\n",
    "        .appName('ALSModel').config('spark.driver.host', 'localhost')\\\n",
    "        .getOrCreate()"
   ]
  },
  {
   "cell_type": "code",
   "execution_count": 29,
   "metadata": {},
   "outputs": [],
   "source": [
    "py_data = spark.read.csv('skindataall.csv', header='true', inferSchema='true')"
   ]
  },
  {
   "cell_type": "code",
   "execution_count": 30,
   "metadata": {},
   "outputs": [],
   "source": [
    "py_data = py_data.select('User_id', 'Product_id', 'Rating_Stars')"
   ]
  },
  {
   "cell_type": "code",
   "execution_count": 31,
   "metadata": {},
   "outputs": [
    {
     "data": {
      "text/plain": [
       "[('User_id', 'string'), ('Product_id', 'string'), ('Rating_Stars', 'string')]"
      ]
     },
     "execution_count": 31,
     "metadata": {},
     "output_type": "execute_result"
    }
   ],
   "source": [
    "py_data.dtypes"
   ]
  },
  {
   "cell_type": "code",
   "execution_count": 32,
   "metadata": {},
   "outputs": [],
   "source": [
    "from pyspark.sql.types import ShortType, ByteType\n",
    "\n",
    "py_data = py_data.withColumn('User_id', py_data['User_id'].cast(ShortType()))\n",
    "py_data = py_data.withColumn('Product_id', py_data['Product_id'].cast(ShortType()))\n",
    "py_data = py_data.withColumn('Rating_Stars', py_data['Rating_Stars'].cast(ByteType()))"
   ]
  },
  {
   "cell_type": "code",
   "execution_count": 33,
   "metadata": {},
   "outputs": [
    {
     "data": {
      "text/plain": [
       "[('User_id', 'smallint'),\n",
       " ('Product_id', 'smallint'),\n",
       " ('Rating_Stars', 'tinyint')]"
      ]
     },
     "execution_count": 33,
     "metadata": {},
     "output_type": "execute_result"
    }
   ],
   "source": [
    "py_data.dtypes"
   ]
  },
  {
   "cell_type": "code",
   "execution_count": 36,
   "metadata": {
    "scrolled": true
   },
   "outputs": [
    {
     "name": "stdout",
     "output_type": "stream",
     "text": [
      "+-------+----------+------------+\n",
      "|User_id|Product_id|Rating_Stars|\n",
      "+-------+----------+------------+\n",
      "|   null|      null|           5|\n",
      "|   null|      null|           0|\n",
      "|   null|      null|           1|\n",
      "|   null|      null|           0|\n",
      "|   null|      null|           5|\n",
      "|   null|      null|           0|\n",
      "|   null|      null|           5|\n",
      "|   null|      null|           0|\n",
      "|   null|      null|           5|\n",
      "|   null|      null|           0|\n",
      "|   null|      null|           3|\n",
      "|   null|      null|           0|\n",
      "|   null|      null|           5|\n",
      "|   null|      null|           0|\n",
      "|   null|      null|           1|\n",
      "|   null|      null|           0|\n",
      "|   null|      null|           5|\n",
      "|   null|      null|           0|\n",
      "|   null|      null|           5|\n",
      "|   null|      null|           0|\n",
      "+-------+----------+------------+\n",
      "only showing top 20 rows\n",
      "\n"
     ]
    }
   ],
   "source": [
    "py_data.filter(\"User_id is NULL\").show()"
   ]
  },
  {
   "cell_type": "code",
   "execution_count": 37,
   "metadata": {},
   "outputs": [],
   "source": [
    "py_data = py_data.na.fill(value=0)"
   ]
  },
  {
   "cell_type": "code",
   "execution_count": 39,
   "metadata": {},
   "outputs": [],
   "source": [
    "from pyspark.ml.evaluation import RegressionEvaluator\n",
    "from pyspark.ml.recommendation import ALS\n",
    "\n",
    "(train, test) = py_data.randomSplit([0.8, 0.2])"
   ]
  },
  {
   "cell_type": "code",
   "execution_count": 40,
   "metadata": {},
   "outputs": [],
   "source": [
    "als = ALS(maxIter=5,\n",
    "          rank=4,\n",
    "          regParam=0.01,\n",
    "          userCol='User_id',\n",
    "          itemCol='Product_id',\n",
    "          ratingCol='Rating_Stars',\n",
    "          coldStartStrategy='drop')\n",
    "\n",
    "als_model = als.fit(train)"
   ]
  },
  {
   "cell_type": "code",
   "execution_count": 41,
   "metadata": {},
   "outputs": [
    {
     "name": "stdout",
     "output_type": "stream",
     "text": [
      "RMSE: 2.378393745752967\n"
     ]
    }
   ],
   "source": [
    "from pyspark.ml.evaluation import RegressionEvaluator\n",
    "\n",
    "predictions = als_model.transform(test)\n",
    "evaluator = RegressionEvaluator(metricName='rmse',\n",
    "                                labelCol='Rating_Stars',\n",
    "                                predictionCol='prediction')\n",
    "\n",
    "rmse = evaluator.evaluate(predictions)\n",
    "print('RMSE: ' + str(rmse))"
   ]
  },
  {
   "cell_type": "code",
   "execution_count": 51,
   "metadata": {
    "scrolled": true
   },
   "outputs": [
    {
     "data": {
      "text/plain": [
       "50"
      ]
     },
     "execution_count": 51,
     "metadata": {},
     "output_type": "execute_result"
    }
   ],
   "source": [
    "#cross validate to find best params for ALS \n",
    "from pyspark.ml.tuning import CrossValidator, ParamGridBuilder\n",
    "\n",
    "als_model2 = ALS(userCol='User_id',\n",
    "                itemCol='Product_id',\n",
    "                ratingCol='Rating_Stars',\n",
    "                coldStartStrategy='drop')\n",
    "\n",
    "params = ParamGridBuilder()\\\n",
    "            .addGrid(als_model2.regParam, [0.01, 0.001, 0.1])\\\n",
    "            .addGrid(als_model2.rank, [4, 10, 50]).build()\n",
    "\n",
    "cv = CrossValidator(estimator=als_model2, \n",
    "                    estimatorParamMaps=params, \n",
    "                    evaluator=evaluator, \n",
    "                    parallelism=4)\n",
    "\n",
    "best_als = cv.fit(py_data)\n",
    "best_als.bestModel.rank"
   ]
  },
  {
   "cell_type": "code",
   "execution_count": 56,
   "metadata": {},
   "outputs": [
    {
     "name": "stdout",
     "output_type": "stream",
     "text": [
      "RMSE: 2.120258332537024\n"
     ]
    }
   ],
   "source": [
    "als_cv = ALS(maxIter=5,\n",
    "             rank=50,\n",
    "             regParam=0.01,\n",
    "             userCol='User_id',\n",
    "             itemCol='Product_id',\n",
    "             ratingCol='Rating_Stars',\n",
    "             coldStartStrategy='drop')\n",
    "\n",
    "als_model2 = als_cv.fit(train)\n",
    "\n",
    "predictions = als_model2.transform(test)\n",
    "evaluator = RegressionEvaluator(metricName='rmse',\n",
    "                                labelCol='Rating_Stars',\n",
    "                                predictionCol='prediction')\n",
    "\n",
    "rmse = evaluator.evaluate(predictions)\n",
    "print('RMSE: ' + str(rmse))"
   ]
  },
  {
   "cell_type": "markdown",
   "metadata": {},
   "source": [
    "After tuning ALS slightly, RMSE only approved slightly as well and still about 1 point worse than the Knn Baseline and SVD."
   ]
  },
  {
   "cell_type": "markdown",
   "metadata": {},
   "source": [
    "### Recommender Based on Customer Needs\n",
    "\n",
    "Collaborative Filtering - SVD"
   ]
  },
  {
   "cell_type": "code",
   "execution_count": 18,
   "metadata": {},
   "outputs": [
    {
     "name": "stdout",
     "output_type": "stream",
     "text": [
      "Estimating biases using als...\n",
      "Computing the pearson similarity matrix...\n",
      "Done computing similarity matrix.\n"
     ]
    },
    {
     "data": {
      "text/plain": [
       "<surprise.prediction_algorithms.knns.KNNBaseline at 0x7fecb5760d00>"
      ]
     },
     "execution_count": 18,
     "metadata": {},
     "output_type": "execute_result"
    }
   ],
   "source": [
    "#building recommender\n",
    "#simple predictions with KNNBaseline\n",
    "knn_baseline.fit(dataset)"
   ]
  },
  {
   "cell_type": "code",
   "execution_count": 19,
   "metadata": {},
   "outputs": [
    {
     "data": {
      "text/plain": [
       "Prediction(uid=2, iid=4, r_ui=None, est=3.8179128371211366, details={'actual_k': 0, 'was_impossible': False})"
      ]
     },
     "execution_count": 19,
     "metadata": {},
     "output_type": "execute_result"
    }
   ],
   "source": [
    "knn_baseline.predict(2, 4)"
   ]
  },
  {
   "cell_type": "markdown",
   "metadata": {},
   "source": [
    "It's nice to make simple predictions based on the model; however, it would be more beneficial to get recommendations based on the customer's preferences. This function will obtain customer ratings."
   ]
  },
  {
   "cell_type": "code",
   "execution_count": 23,
   "metadata": {},
   "outputs": [],
   "source": [
    "#first split dataframe to one with user data and one just with product information\n",
    "product_df = df[['Brand', 'Product', 'Product_id', 'Price', 'Category', 'Combination', 'Dry', 'Normal', 'Sensitive', 'Oily']]"
   ]
  },
  {
   "cell_type": "code",
   "execution_count": 21,
   "metadata": {},
   "outputs": [],
   "source": [
    "def skincare_rater(product_df, num, category=None):\n",
    "    raw_userid = input('Enter ID: ')\n",
    "    rating_list = []\n",
    "    while num > 0:\n",
    "        if category:\n",
    "            product = product_df[product_df['Category'].str.contains(\n",
    "                category)].sample(1)\n",
    "        else:\n",
    "            product = product_df.sample(1)\n",
    "        print(product)\n",
    "        rating = input(\n",
    "            'How do you rate this product on a scale of 1-5, press n if you have not used this before :\\n')\n",
    "        if rating == 'n':\n",
    "            continue\n",
    "        else:\n",
    "            rating_one_product = {'user_id': raw_userid, 'product_id':product['Product_id'].values[0], 'rating':rating}\n",
    "            rating_list.append(rating_one_product)\n",
    "            num -= 1\n",
    "    return rating_list"
   ]
  },
  {
   "cell_type": "code",
   "execution_count": null,
   "metadata": {},
   "outputs": [],
   "source": [
    "test_rating = skincare_rater(product_df, 5, 'Cleanser')"
   ]
  },
  {
   "cell_type": "code",
   "execution_count": null,
   "metadata": {},
   "outputs": [],
   "source": []
  },
  {
   "cell_type": "code",
   "execution_count": 44,
   "metadata": {},
   "outputs": [],
   "source": [
    "def skincare_rec(num, product_df, category=None):\n",
    "    raw_userid = input('Enter ID: ')\n",
    "#     skin_type = input(\n",
    "#         'What is your skin type? Include all that apply (for example: Dry, Sensitive): \\nDry \\nSensitive \\nOily \\nCombination \\nnormal \\n(n if none apply):\\n '\n",
    "#     )\n",
    "#     prod_type = input(\n",
    "#         'What types of products are you looking for?: \\nCleanser \\nMoisturizer \\nFace Mask \\nTreatment:\\n '\n",
    "#     )\n",
    "    rating_list = []\n",
    "#     df = product_df.copy()\n",
    "#     if 'Dry' in skin_type:\n",
    "#         df = pd.concat([df, product_df[product_df['Dry'] == 1]])\n",
    "#     if 'Sensitive' in skin_type:\n",
    "#         df = pd.concat([df, product_df[product_df['Sensitive'] == 1]])\n",
    "#     if 'Oily' in skin_type:\n",
    "#         df = pd.concat([df, product_df[product_df['Oily'] == 1]])\n",
    "#     if 'Combination' in skin_type:\n",
    "#         df = pd.concat([df, product_df[product_df['Combination'] == 1]])\n",
    "#     if 'Normal' in skin_type:\n",
    "#         df = pd.concat([df, product_df[product_df['Normal'] == 1]])\n",
    "#     if 'Cleanser' in prod_type:\n",
    "#         df = pd.concat([df, product_df[product_df['Category'] == 'Cleanser']])\n",
    "#     if 'Moisturizer' in prod_type:\n",
    "#         df = pd.concat(\n",
    "#             [df, product_df[product_df['Category'] == 'Moisturizer']])\n",
    "#     if 'Face Mask' in prod_type:\n",
    "#         df = pd.concat([df, product_df[product_df['Category'] == 'Face Mask']])\n",
    "#     if 'Treatment' in prod_type:\n",
    "#         df = pd.concat([df, product_df[product_df['Category'] == 'Treatment']])\n",
    "#     df.drop_duplicates(inplace=True)\n",
    "    while num > 0:\n",
    "#         prod = df.sample(1)\n",
    "#         print(prod[['Product', 'Brand', 'Price']])\n",
    "        if category:\n",
    "            product = product_df[product_df['Category'].str.contains(category)].sample(1)\n",
    "        else:\n",
    "            product = product_df.sample(1)\n",
    "        print(product)\n",
    "        rating = input(\n",
    "            'How do you rate this product on a scale of 1-5, press n if you have not used this before :\\n'\n",
    "        )\n",
    "        if rating == 'n':\n",
    "            continue\n",
    "        else:\n",
    "            rating_one_product = {\n",
    "                'User_id': raw_userid,\n",
    "                'Product_id': product['Product_id'].values[0],\n",
    "                'User_rating': rating\n",
    "            }\n",
    "            rating_list.append(rating_one_product)\n",
    "            num -= 1\n",
    "    new_ratings_df = df.append(rating_list, ignore_index=True)\n",
    "    new_data = Dataset.load_from_df(new_ratings_df, reader)\n",
    "    knn_baseline = knns.KNNBaseline(sim_options={\n",
    "        'name': 'pearson',\n",
    "        'user_based': False\n",
    "    })\n",
    "    knn_baseline.fit(new_data.build_full_trainset())\n",
    "    \n",
    "    list_of_prods = []\n",
    "    for prod_id in new_ratings_df['Product_id'].unique():\n",
    "        list_of_prods.append((prod_id, knn_baseline.predict(raw_userid,prod_id)[3]))\n",
    "    ranked_prods = sorted(list_of_prods, key=lambda x:x[1], reverse=True)\n",
    "    \n",
    "    num_prods = int(input('How many products would you like to be recommended to you?\\n'))\n",
    "    for idx, rec in enumerate(ranked_prods):\n",
    "        name = df.loc[df['Product_id'] == int(rec[0])]['Product']\n",
    "        print('Recommendation #', idx+1, ': ', name, '\\n')\n",
    "        num_prods -= 1\n",
    "        if num_prods ==0:\n",
    "            break"
   ]
  },
  {
   "cell_type": "code",
   "execution_count": null,
   "metadata": {
    "scrolled": true
   },
   "outputs": [],
   "source": [
    "skincare_rec(2, product_df, 'Cleanser')"
   ]
  },
  {
   "cell_type": "markdown",
   "metadata": {},
   "source": [
    "### Recommender Based on Ingredients Content"
   ]
  },
  {
   "cell_type": "markdown",
   "metadata": {},
   "source": [
    "## Evaluation"
   ]
  },
  {
   "cell_type": "markdown",
   "metadata": {},
   "source": [
    "### Next Steps"
   ]
  },
  {
   "cell_type": "code",
   "execution_count": null,
   "metadata": {},
   "outputs": [],
   "source": []
  }
 ],
 "metadata": {
  "kernelspec": {
   "display_name": "learn-env",
   "language": "python",
   "name": "learn-env"
  },
  "language_info": {
   "codemirror_mode": {
    "name": "ipython",
    "version": 3
   },
   "file_extension": ".py",
   "mimetype": "text/x-python",
   "name": "python",
   "nbconvert_exporter": "python",
   "pygments_lexer": "ipython3",
   "version": "3.8.5"
  },
  "toc": {
   "base_numbering": 1,
   "nav_menu": {},
   "number_sections": true,
   "sideBar": true,
   "skip_h1_title": false,
   "title_cell": "Table of Contents",
   "title_sidebar": "Contents",
   "toc_cell": false,
   "toc_position": {},
   "toc_section_display": true,
   "toc_window_display": false
  },
  "varInspector": {
   "cols": {
    "lenName": 16,
    "lenType": 16,
    "lenVar": 40
   },
   "kernels_config": {
    "python": {
     "delete_cmd_postfix": "",
     "delete_cmd_prefix": "del ",
     "library": "var_list.py",
     "varRefreshCmd": "print(var_dic_list())"
    },
    "r": {
     "delete_cmd_postfix": ") ",
     "delete_cmd_prefix": "rm(",
     "library": "var_list.r",
     "varRefreshCmd": "cat(var_dic_list()) "
    }
   },
   "types_to_exclude": [
    "module",
    "function",
    "builtin_function_or_method",
    "instance",
    "_Feature"
   ],
   "window_display": false
  }
 },
 "nbformat": 4,
 "nbformat_minor": 4
}
